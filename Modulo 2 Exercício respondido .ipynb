{
  "nbformat": 4,
  "nbformat_minor": 0,
  "metadata": {
    "colab": {
      "name": "Python_M2_support_material02_exercise.ipynb",
      "provenance": [],
      "collapsed_sections": [],
      "toc_visible": true
    },
    "kernelspec": {
      "name": "python3",
      "display_name": "Python 3"
    }
  },
  "cells": [
    {
      "cell_type": "markdown",
      "metadata": {
        "id": "KJqp9AANOCtf"
      },
      "source": [
        "<img src=\"https://raw.githubusercontent.com/andre-marcos-perez/ebac-course-utils/main/media/logo/newebac_logo_black_half.png\" alt=\"ebac-logo\">\n",
        "\n",
        "---\n",
        "\n",
        "# **Módulo** | Python: Estruturas de Dados\n",
        "Caderno de **Exercícios**<br> \n",
        "Professor [André Perez](https://www.linkedin.com/in/andremarcosperez/)\n",
        "\n",
        "---"
      ]
    },
    {
      "cell_type": "markdown",
      "metadata": {
        "id": "d9jDtUbDOE1-"
      },
      "source": [
        "# **Tópicos**\n",
        "\n",
        "<ol type=\"1\">\n",
        "  <li>Listas;</li>\n",
        "  <li>Conjuntos;</li>\n",
        "  <li>Dicionários.</li>\n",
        "</ol>"
      ]
    },
    {
      "cell_type": "markdown",
      "metadata": {
        "id": "SmoHgt-lwkpD"
      },
      "source": [
        "---"
      ]
    },
    {
      "cell_type": "markdown",
      "metadata": {
        "id": "GABI6OW8OfQ2"
      },
      "source": [
        "# **Exercícios**"
      ]
    },
    {
      "cell_type": "markdown",
      "metadata": {
        "id": "muD1vxozykSC"
      },
      "source": [
        "## 1\\. Listas"
      ]
    },
    {
      "cell_type": "markdown",
      "metadata": {
        "id": "ahrFfCuBxJKs"
      },
      "source": [
        "Criei uma lista chamada `filmes` com o nome dos 10 primeiros filmes mais bem avaliados no site no [IMDB](https://www.imdb.com/chart/top/). Imprima o resultado."
      ]
    },
    {
      "cell_type": "code",
      "metadata": {
        "id": "OgL6Hv3bzOHI",
        "colab": {
          "base_uri": "https://localhost:8080/"
        },
        "outputId": "0d9d2157-cbc5-49ce-91d7-987f9c6d3b40"
      },
      "source": [
        "filmes = [\n",
        "          \"Um Sonho de Liberdade\",\n",
        "         \" O Poderoso Chefão\",\n",
        "          \"Batman: O Cavaleiro das Trevas\",\n",
        "          \"O Poderoso Chefão II \",\n",
        "          \"12 Homens e uma Sentença\",\n",
        "          \"A Lista de Schindler \",\n",
        "          \"O Senhor dos Anéis: O Retorno do Rei \",\n",
        "          \"8. Pulp Fiction: Tempo de Violência (1994)\",\n",
        "          \"O Senhor dos Anéis: A Sociedade do Anel \",\n",
        "          \"Três Homens em Conflito\"\n",
        "            \n",
        "]\n",
        "print(filmes)"
      ],
      "execution_count": null,
      "outputs": [
        {
          "output_type": "stream",
          "name": "stdout",
          "text": [
            "['Um Sonho de Liberdade', ' O Poderoso Chefão', 'Batman: O Cavaleiro das Trevas', 'O Poderoso Chefão II ', '12 Homens e uma Sentença', 'A Lista de Schindler ', 'O Senhor dos Anéis: O Retorno do Rei ', '8. Pulp Fiction: Tempo de Violência (1994)', 'O Senhor dos Anéis: A Sociedade do Anel ', 'Três Homens em Conflito']\n"
          ]
        }
      ]
    },
    {
      "cell_type": "markdown",
      "metadata": {
        "id": "KI9zQRT2xa7m"
      },
      "source": [
        "Simule a movimentação do *ranking*. Utilize os métodos `insert` e `pop` para trocar a posição do primeiro e do segundo filme da lista. Imprima o resultado.\n",
        "\n"
      ]
    },
    {
      "cell_type": "code",
      "metadata": {
        "id": "zX3mA3_GzrXH",
        "colab": {
          "base_uri": "https://localhost:8080/"
        },
        "outputId": "bf624755-c54d-4dec-8d43-6f02935e2253"
      },
      "source": [
        "filmes.insert(0,\" O Poderoso Chefão\")\n",
        "print(filmes)\n"
      ],
      "execution_count": null,
      "outputs": [
        {
          "output_type": "stream",
          "name": "stdout",
          "text": [
            "[' O Poderoso Chefão', 'Um Sonho de Liberdade', ' O Poderoso Chefão', 'Batman: O Cavaleiro das Trevas', 'O Poderoso Chefão II ', '12 Homens e uma Sentença', 'A Lista de Schindler ', 'O Senhor dos Anéis: O Retorno do Rei ', '8. Pulp Fiction: Tempo de Violência (1994)', 'O Senhor dos Anéis: A Sociedade do Anel ', 'Três Homens em Conflito']\n"
          ]
        }
      ]
    },
    {
      "cell_type": "markdown",
      "metadata": {
        "id": "zMN1Q3jdwoJm"
      },
      "source": [
        "---"
      ]
    },
    {
      "cell_type": "code",
      "source": [
        "remover_filme = filmes.pop(2)\n",
        "print(filmes)"
      ],
      "metadata": {
        "colab": {
          "base_uri": "https://localhost:8080/"
        },
        "id": "yDFmsd5tseVz",
        "outputId": "7afb7aee-60ba-49b9-efba-3573175a47ff"
      },
      "execution_count": null,
      "outputs": [
        {
          "output_type": "stream",
          "name": "stdout",
          "text": [
            "[' O Poderoso Chefão', 'Um Sonho de Liberdade', 'Batman: O Cavaleiro das Trevas', 'O Poderoso Chefão II ', '12 Homens e uma Sentença', 'A Lista de Schindler ', 'O Senhor dos Anéis: O Retorno do Rei ', '8. Pulp Fiction: Tempo de Violência (1994)', 'O Senhor dos Anéis: A Sociedade do Anel ', 'Três Homens em Conflito']\n"
          ]
        }
      ]
    },
    {
      "cell_type": "markdown",
      "metadata": {
        "id": "lxa5L6uF0ZJE"
      },
      "source": [
        "## 2\\. Conjuntos"
      ]
    },
    {
      "cell_type": "markdown",
      "metadata": {
        "id": "9JahS2Kj0d5u"
      },
      "source": [
        "Aconteceu um erro no seu *ranking*. Simule a duplicação dos três últimos filmes da lista. Imprima o resultado."
      ]
    },
    {
      "cell_type": "code",
      "metadata": {
        "id": "BnjnLBNC6PGe",
        "colab": {
          "base_uri": "https://localhost:8080/"
        },
        "outputId": "d27ec71f-b071-4415-95bd-4d0f89dbb1c6"
      },
      "source": [
        "filmes.insert(9,'Três Homens em Conflito')\n",
        "filmes.insert(8,'O Senhor dos Anéis: A Sociedade do Anel ')\n",
        "filmes.insert(7,'8. Pulp Fiction: Tempo de Violência (1994)')\n",
        "print(filmes)"
      ],
      "execution_count": null,
      "outputs": [
        {
          "output_type": "stream",
          "name": "stdout",
          "text": [
            "['Um Sonho de Liberdade', ' O Poderoso Chefão', 'Batman: O Cavaleiro das Trevas', 'O Poderoso Chefão II ', '12 Homens e uma Sentença', 'A Lista de Schindler ', 'O Senhor dos Anéis: O Retorno do Rei ', '8. Pulp Fiction: Tempo de Violência (1994)', '8. Pulp Fiction: Tempo de Violência (1994)', 'O Senhor dos Anéis: A Sociedade do Anel ', 'O Senhor dos Anéis: A Sociedade do Anel ', 'Três Homens em Conflito', 'Três Homens em Conflito']\n"
          ]
        }
      ]
    },
    {
      "cell_type": "markdown",
      "metadata": {
        "id": "suxTfCJB6ZiX"
      },
      "source": [
        "Utiliza a conversão `set` e `list` para remover os valores duplicados. Imprima o resultado. "
      ]
    },
    {
      "cell_type": "code",
      "metadata": {
        "id": "ZvUGN-0n6joM",
        "colab": {
          "base_uri": "https://localhost:8080/"
        },
        "outputId": "3b378c8d-59ac-49e3-8e6d-17c5256e1795"
      },
      "source": [
        "filmes.remove('O Senhor dos Anéis: A Sociedade do Anel ')\n",
        "filmes.remove('Três Homens em Conflito')\n",
        "filmes.remove('8. Pulp Fiction: Tempo de Violência (1994)')\n",
        "print(filmes)"
      ],
      "execution_count": null,
      "outputs": [
        {
          "output_type": "stream",
          "name": "stdout",
          "text": [
            "['Um Sonho de Liberdade', ' O Poderoso Chefão', 'Batman: O Cavaleiro das Trevas', 'O Poderoso Chefão II ', '12 Homens e uma Sentença', 'A Lista de Schindler ', 'O Senhor dos Anéis: O Retorno do Rei ', '8. Pulp Fiction: Tempo de Violência (1994)', 'O Senhor dos Anéis: A Sociedade do Anel ', 'Três Homens em Conflito']\n"
          ]
        }
      ]
    },
    {
      "cell_type": "markdown",
      "metadata": {
        "id": "ShkK35eQ6pAM"
      },
      "source": [
        "---"
      ]
    },
    {
      "cell_type": "markdown",
      "metadata": {
        "id": "EL_FzmxL6rTv"
      },
      "source": [
        "## 3\\. Dicionários"
      ]
    },
    {
      "cell_type": "markdown",
      "metadata": {
        "id": "i8l0gFqRCpfT"
      },
      "source": [
        "Repita os exercícios da parte 1 (listas). Os elementos da lista `filmes` devem ser dicionários no seguinte formato: `{'nome': <nome-do-filme>, 'ano': <ano do filme>}, 'sinopse': <sinopse do filme>}`. "
      ]
    },
    {
      "cell_type": "code",
      "metadata": {
        "id": "tu6MSFwGDnHv",
        "colab": {
          "base_uri": "https://localhost:8080/"
        },
        "outputId": "1152d6c7-5d2c-4b1a-bead-87fd211ee3e4"
      },
      "source": [
        "\n",
        "filmes = [\n",
        "\n",
        "          \n",
        "        {\n",
        "\n",
        "          'nome': \"Um Sonho de Liberdade\",\n",
        "          'ano': 1994,\n",
        "          'sinopse': \"Dois homens presos se reúnem ao longo de vários anos, encontrando consolo e eventual redenção através de atos de decência comum.\"\n",
        "         \n",
        "        },\n",
        "\n",
        "\n",
        "        {\n",
        "\n",
        "           'nome':\"O Poderoso Chefão\",\n",
        "           'ano': 1972,\n",
        "           'sinopse': \"O patriarca idoso de uma dinastia do crime organizado transfere o controle de seu império clandestino para seu filho relutante.\"\n",
        "\n",
        "        },\n",
        "\n",
        "\n",
        "        {\n",
        "\n",
        "           'nome':\"Batman: O Cavaleiro das Trevas\",\n",
        "           'ano': 2008,\n",
        "           'sinopse': \"Quando a ameaça conhecida como O Coringa surge de seu passado, causa estragos e caos nas pessoas de Gotham.O Cavaleiro das Trevas deve aceitar um dos maiores testes para combater a injustiça.\"\n",
        "\n",
        "        },\n",
        "\n",
        "        \n",
        "        {\n",
        "\n",
        "          'nome': \"O Poderoso Chefão II \",\n",
        "          'ano': 1974,\n",
        "          'sinopse': \"Em 1950, Michael Corleone, agora à frente da família, tenta expandir o negócio do crime a Las Vegas, Los Angeles e Cuba. Paralelamente, é revelada a história de Vito Corleone, e de como saiu da Sicília e chegou a Nova Iorque.\"\n",
        "\n",
        "         },\n",
        "\n",
        "          \n",
        "         {\n",
        "\n",
        "           'nome': \"12 Homens e uma Sentença\",\n",
        "           'ano': 1957,\n",
        "           'sinopse': \"Um jurado que se aposenta tenta evitar um erro judicial forçando seus colegas a reconsiderarem as evidências.\"\n",
        "\n",
        "         },\n",
        "\n",
        "\n",
        "         {\n",
        "\n",
        "\n",
        "           'nome': \"A Lista de Schindler \",\n",
        "           'ano': 1993,\n",
        "           'sinopse': \"Depois de testemunhar a perseguição dos judaicos na Polônia ocupada pelos alemães durante a Segunda Guerra Mundial, o industrial Oskar Schindler se começa a preocupar com sua força de trabalho judaica.\"\n",
        "\n",
        "         },\n",
        "\n",
        "\n",
        "         {\n",
        "\n",
        "           'nom': \"O Senhor dos Anéis: O Retorno do Rei \",\n",
        "           'ano': 2003,\n",
        "           'sinopse': \"Gandalf e Aragorn lideram o Mundo dos Homens contra o exército de Sauron para desviar o olhar de Frodo e Sam quando eles se aproximam á Montanha da Perdição com o Um Anel.\"\n",
        "\n",
        "         },\n",
        "\n",
        "\n",
        "         {\n",
        "\n",
        "\n",
        "           'nome': \"8. Pulp Fiction: Tempo de Violência (1994)\",\n",
        "           'ano': 1994,\n",
        "           'sinopse': \"As vidas de dois assassinos da máfia, um boxeador, um gângster e sua esposa,e um par de bandidos se entrelaçam em quatro histórias de violência e redenção.\"\n",
        "\n",
        "         },\n",
        "\n",
        "\n",
        "         {\n",
        "\n",
        "           'nome': \"O Senhor dos Anéis: A Sociedade do Anel \",\n",
        "           'ano': 2001,\n",
        "           'sinopse': \"Um manso hobbit do Condado e oito companheiros partem em uma jornada para destruir o poderoso Um Anel e salvar a Terra-média das Trevas.\"\n",
        "\n",
        "         },\n",
        "\n",
        "\n",
        "         {\n",
        "\n",
        "            'nome': \"Três Homens em Conflito\",\n",
        "            'ano': 1966,\n",
        "            'sinopse': \"Um impostor se junta com dois homens para encontrar fortuna num remoto cemitério.\"\n",
        "\n",
        "         }\n",
        "\n",
        "]\n",
        "\n",
        "print(filmes)"
      ],
      "execution_count": 8,
      "outputs": [
        {
          "output_type": "stream",
          "name": "stdout",
          "text": [
            "[{'nome': 'Um Sonho de Liberdade', 'ano': 1994, 'sinopse': 'Dois homens presos se reúnem ao longo de vários anos, encontrando consolo e eventual redenção através de atos de decência comum.'}, {'nome': 'O Poderoso Chefão', 'ano': 1972, 'sinopse': 'O patriarca idoso de uma dinastia do crime organizado transfere o controle de seu império clandestino para seu filho relutante.'}, {'nome': 'Batman: O Cavaleiro das Trevas', 'ano': 2008, 'sinopse': 'Quando a ameaça conhecida como O Coringa surge de seu passado, causa estragos e caos nas pessoas de Gotham.O Cavaleiro das Trevas deve aceitar um dos maiores testes para combater a injustiça.'}, {'nome': 'O Poderoso Chefão II ', 'ano': 1974, 'sinopse': 'Em 1950, Michael Corleone, agora à frente da família, tenta expandir o negócio do crime a Las Vegas, Los Angeles e Cuba. Paralelamente, é revelada a história de Vito Corleone, e de como saiu da Sicília e chegou a Nova Iorque.'}, {'nome': '12 Homens e uma Sentença', 'ano': 1957, 'sinopse': 'Um jurado que se aposenta tenta evitar um erro judicial forçando seus colegas a reconsiderarem as evidências.'}, {'nome': 'A Lista de Schindler ', 'ano': 1993, 'sinopse': 'Depois de testemunhar a perseguição dos judaicos na Polônia ocupada pelos alemães durante a Segunda Guerra Mundial, o industrial Oskar Schindler se começa a preocupar com sua força de trabalho judaica.'}, {'nom': 'O Senhor dos Anéis: O Retorno do Rei ', 'ano': 2003, 'sinopse': 'Gandalf e Aragorn lideram o Mundo dos Homens contra o exército de Sauron para desviar o olhar de Frodo e Sam quando eles se aproximam á Montanha da Perdição com o Um Anel.'}, {'nome': '8. Pulp Fiction: Tempo de Violência (1994)', 'ano': 1994, 'sinopse': 'As vidas de dois assassinos da máfia, um boxeador, um gângster e sua esposa,e um par de bandidos se entrelaçam em quatro histórias de violência e redenção.'}, {'nome': 'O Senhor dos Anéis: A Sociedade do Anel ', 'ano': 2001, 'sinopse': 'Um manso hobbit do Condado e oito companheiros partem em uma jornada para destruir o poderoso Um Anel e salvar a Terra-média das Trevas.'}, {'nome': 'Três Homens em Conflito', 'ano': 1966, 'sinopse': 'Um impostor se junta com dois homens para encontrar fortuna num remoto cemitério.'}]\n"
          ]
        }
      ]
    }
  ]
}
