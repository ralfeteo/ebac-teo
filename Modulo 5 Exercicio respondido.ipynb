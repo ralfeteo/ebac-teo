{
  "cells": [
    {
      "cell_type": "markdown",
      "metadata": {
        "id": "KJqp9AANOCtf"
      },
      "source": [
        "<img src=\"https://raw.githubusercontent.com/andre-marcos-perez/ebac-course-utils/main/media/logo/newebac_logo_black_half.png\" alt=\"ebac-logo\">\n",
        "\n",
        "---\n",
        "\n",
        "# **Módulo** | Python: Programação Funcional\n",
        "Caderno de **Exercícios**<br> \n",
        "Professor [André Perez](https://www.linkedin.com/in/andremarcosperez/)\n",
        "\n",
        "---"
      ]
    },
    {
      "cell_type": "markdown",
      "metadata": {
        "id": "d9jDtUbDOE1-"
      },
      "source": [
        "# **Tópicos**\n",
        "\n",
        "<ol type=\"1\">\n",
        "  <li>Função lambda;</li>\n",
        "  <li>Função map;</li>\n",
        "  <li>Função filter;</li>\n",
        "  <li>Função reduce.</li>\n",
        "</ol>"
      ]
    },
    {
      "cell_type": "markdown",
      "metadata": {
        "id": "SmoHgt-lwkpD"
      },
      "source": [
        "---"
      ]
    },
    {
      "cell_type": "markdown",
      "metadata": {
        "id": "GABI6OW8OfQ2"
      },
      "source": [
        "# **Exercícios**"
      ]
    },
    {
      "cell_type": "markdown",
      "metadata": {
        "id": "muD1vxozykSC"
      },
      "source": [
        "## 0\\. Preparação do ambiente "
      ]
    },
    {
      "cell_type": "markdown",
      "metadata": {
        "id": "ahrFfCuBxJKs"
      },
      "source": [
        "Neste exercício vamos trabalhar com o arquivo csv com dados de crédito, definido abaixo. Execute cada uma das células de código para escrever os arquivos na sua máquina virtual."
      ]
    },
    {
      "cell_type": "code",
      "execution_count": 1,
      "metadata": {
        "id": "Kjt3HvFX7C3A",
        "colab": {
          "base_uri": "https://localhost:8080/"
        },
        "outputId": "3faf05aa-8d21-45c6-ea99-96012826c323"
      },
      "outputs": [
        {
          "output_type": "stream",
          "name": "stdout",
          "text": [
            "Writing credito.csv\n"
          ]
        }
      ],
      "source": [
        "%%writefile credito.csv\n",
        "id_vendedor,valor_emprestimos,quantidade_emprestimos,data\n",
        "104271,448.0,1,20161208\n",
        "21476,826.7,3,20161208\n",
        "87440,313.6,3,20161208\n",
        "15980,-8008.0,6,20161208\n",
        "215906,2212.0,5,20161208\n",
        "33696,2771.3,2,20161208\n",
        "33893,2240.0,3,20161208\n",
        "214946,-4151.0,18,20161208\n",
        "123974,2021.95,2,20161208\n",
        "225870,4039.0,2,20161208"
      ]
    },
    {
      "cell_type": "markdown",
      "metadata": {
        "id": "tnhM9v2X7yGS"
      },
      "source": [
        "Vamos ler o conteúdo do arquivo em uma lista onde cada elemento é um dicionário representando as linhas do arquivo."
      ]
    },
    {
      "cell_type": "code",
      "execution_count": 75,
      "metadata": {
        "id": "T00Y_WIh7uPU"
      },
      "outputs": [],
      "source": [
        "emprestimos = []\n",
        "with open(file='./credito.csv', mode='r', encoding='utf8') as fp:\n",
        "  fp.readline() # cabeçalho\n",
        "  linha = fp.readline()\n",
        "  while linha:\n",
        "    linha_emprestimo = {}\n",
        "    linha_elementos = linha.strip().split(sep=',') \n",
        "    linha_emprestimo['id_vendedor'] = linha_elementos[0]\n",
        "    linha_emprestimo['valor_emprestimos'] = linha_elementos[1]\n",
        "    linha_emprestimo['quantidade_emprestimos'] = linha_elementos[2]\n",
        "    linha_emprestimo['data'] = linha_elementos[3]\n",
        "    emprestimos.append(linha_emprestimo)\n",
        "    linha = fp.readline()"
      ]
    },
    {
      "cell_type": "code",
      "execution_count": 76,
      "metadata": {
        "id": "Bp0ZgdTM84bw",
        "colab": {
          "base_uri": "https://localhost:8080/"
        },
        "outputId": "df0d7cd7-9c14-41ed-bbe3-8eaaf6018c76"
      },
      "outputs": [
        {
          "output_type": "stream",
          "name": "stdout",
          "text": [
            "{'id_vendedor': '104271', 'valor_emprestimos': '448.0', 'quantidade_emprestimos': '1', 'data': '20161208'}\n",
            "{'id_vendedor': '21476', 'valor_emprestimos': '826.7', 'quantidade_emprestimos': '3', 'data': '20161208'}\n",
            "{'id_vendedor': '87440', 'valor_emprestimos': '313.6', 'quantidade_emprestimos': '3', 'data': '20161208'}\n",
            "{'id_vendedor': '15980', 'valor_emprestimos': '-8008.0', 'quantidade_emprestimos': '6', 'data': '20161208'}\n",
            "{'id_vendedor': '215906', 'valor_emprestimos': '2212.0', 'quantidade_emprestimos': '5', 'data': '20161208'}\n",
            "{'id_vendedor': '33696', 'valor_emprestimos': '2771.3', 'quantidade_emprestimos': '2', 'data': '20161208'}\n",
            "{'id_vendedor': '33893', 'valor_emprestimos': '2240.0', 'quantidade_emprestimos': '3', 'data': '20161208'}\n",
            "{'id_vendedor': '214946', 'valor_emprestimos': '-4151.0', 'quantidade_emprestimos': '18', 'data': '20161208'}\n",
            "{'id_vendedor': '123974', 'valor_emprestimos': '2021.95', 'quantidade_emprestimos': '2', 'data': '20161208'}\n",
            "{'id_vendedor': '225870', 'valor_emprestimos': '4039.0', 'quantidade_emprestimos': '2', 'data': '20161208'}\n"
          ]
        }
      ],
      "source": [
        "for emprestimo in emprestimos:\n",
        "  print(emprestimo)"
      ]
    },
    {
      "cell_type": "markdown",
      "metadata": {
        "id": "KI9zQRT2xa7m"
      },
      "source": [
        "## 1\\. Função `map`\n",
        "\n"
      ]
    },
    {
      "cell_type": "markdown",
      "metadata": {
        "id": "U63MjM7H7o1Y"
      },
      "source": [
        "Aplique a função map na lista de `emprestimos` para extrair os valores da chave `valor_emprestimos` na lista `valor_emprestimos_lista`. Faça também a conversão de `str` para `float`."
      ]
    },
    {
      "cell_type": "code",
      "execution_count": 5,
      "metadata": {
        "id": "-yAW4PJh9h7a"
      },
      "outputs": [],
      "source": [
        "valor_emprestimos_lista = map(lambda valor_emprestimo : float(valor_emprestimo['valor_emprestimos']), emprestimos)\n",
        "valor_emprestimos_lista = list(valor_emprestimos_lista)"
      ]
    },
    {
      "cell_type": "code",
      "execution_count": 77,
      "metadata": {
        "id": "MQUvYdzJ9ndC",
        "colab": {
          "base_uri": "https://localhost:8080/"
        },
        "outputId": "3bdc4c23-70b7-46a5-de04-a66cb8fc51e0"
      },
      "outputs": [
        {
          "output_type": "stream",
          "name": "stdout",
          "text": [
            "[448.0, 826.7, 313.6, -8008.0, 2212.0, 2771.3, 2240.0, -4151.0, 2021.95, 4039.0]\n"
          ]
        }
      ],
      "source": [
        "print(valor_emprestimos_lista) # [448.0, 826.7, ..., 4039.0]"
      ]
    },
    {
      "cell_type": "markdown",
      "metadata": {
        "id": "zMN1Q3jdwoJm"
      },
      "source": [
        "---"
      ]
    },
    {
      "cell_type": "markdown",
      "metadata": {
        "id": "WKHvMtFX_JKH"
      },
      "source": [
        "## 2\\. Função `filter`\n",
        "\n"
      ]
    },
    {
      "cell_type": "markdown",
      "metadata": {
        "id": "6V34N3Lf_gUM"
      },
      "source": [
        "Aplique a função filter na lista de `valor_emprestimos_lista` para filtrar apenas os valores maiores que zero (os valores negativas são erros na base de dados). Salve os valores na lista `valor_emprestimos_lista_filtrada`."
      ]
    },
    {
      "cell_type": "code",
      "execution_count": 7,
      "metadata": {
        "id": "3y7Vmm0yACuk"
      },
      "outputs": [],
      "source": [
        "valor_emprestimos_lista_filtrada = list (filter(lambda valores_maior_zero: valores_maior_zero > 0, valor_emprestimos_lista ))"
      ]
    },
    {
      "cell_type": "code",
      "execution_count": 8,
      "metadata": {
        "id": "socxMS6NADsM",
        "colab": {
          "base_uri": "https://localhost:8080/"
        },
        "outputId": "2cf25772-084f-409d-e273-f3e6d442214c"
      },
      "outputs": [
        {
          "output_type": "stream",
          "name": "stdout",
          "text": [
            "[448.0, 826.7, 313.6, 2212.0, 2771.3, 2240.0, 2021.95, 4039.0]\n"
          ]
        }
      ],
      "source": [
        "print (valor_emprestimos_lista_filtrada) # [448.0, 826.7, ..., 4039.0]"
      ]
    },
    {
      "cell_type": "markdown",
      "metadata": {
        "id": "4yqCAVCo_Yp3"
      },
      "source": [
        "---"
      ]
    },
    {
      "cell_type": "markdown",
      "metadata": {
        "id": "s4TzfRxC_Yp4"
      },
      "source": [
        "## 3\\. Função `reduce`\n",
        "\n"
      ]
    },
    {
      "cell_type": "markdown",
      "metadata": {
        "id": "RwV4V7gDAWfJ"
      },
      "source": [
        "Com a nossa lista de valores de emprestimo pronta, vamos extrair algumas métricas."
      ]
    },
    {
      "cell_type": "markdown",
      "metadata": {
        "id": "zjXA6H0LAf1_"
      },
      "source": [
        "### 3\\.1\\. Função `reduce` para extrair a **soma**"
      ]
    },
    {
      "cell_type": "markdown",
      "metadata": {
        "id": "u1kxPpkUArKw"
      },
      "source": [
        "Aplique a função reduce para somar os elementos da lista `valor_emprestimos_lista_filtrada` na variavel `soma_valor_emprestimos`."
      ]
    },
    {
      "cell_type": "code",
      "execution_count": 9,
      "metadata": {
        "id": "ptAFEVpMAr6_"
      },
      "outputs": [],
      "source": [
        "from functools import reduce\n",
        "\n",
        "soma_valor_emprestimos = reduce(lambda x, y: x + y , valor_emprestimos_lista_filtrada)"
      ]
    },
    {
      "cell_type": "code",
      "execution_count": 10,
      "metadata": {
        "id": "fPosL2LZBDxz",
        "colab": {
          "base_uri": "https://localhost:8080/"
        },
        "outputId": "28b33ba5-2349-4129-db1c-104b608f7270"
      },
      "outputs": [
        {
          "output_type": "stream",
          "name": "stdout",
          "text": [
            "14872.550000000001\n"
          ]
        }
      ],
      "source": [
        "print(soma_valor_emprestimos) # 14872.550000000001"
      ]
    },
    {
      "cell_type": "markdown",
      "metadata": {
        "id": "v8h9TkYqBLPn"
      },
      "source": [
        "### 3\\.2\\. Função `reduce` para extrair a **media aritimética**"
      ]
    },
    {
      "cell_type": "markdown",
      "metadata": {
        "id": "VXsNI53NBLPo"
      },
      "source": [
        "Aplique a função reduce para extrair a média aritimética (mais informações [aqui](https://pt.wikipedia.org/wiki/M%C3%A9dia#M%C3%A9dia_aritm%C3%A9tica)) dos elementos da lista `valor_emprestimos_lista_filtrada` na variavel `media_valor_emprestimos`.\n",
        "\n",
        "Dica: Para calcular o tamanho da lista, isto é a quantidade de elementos, utilize a função len(), dentro do argumento da função coloque a lista `valor_emprestimos_lista_filtrada`."
      ]
    },
    {
      "cell_type": "code",
      "source": [
        "reduce(lambda x, y: x + y, valor_emprestimos_lista_filtrada) / len(valor_emprestimos_lista_filtrada)\n"
      ],
      "metadata": {
        "colab": {
          "base_uri": "https://localhost:8080/"
        },
        "id": "KSU8vS3O962N",
        "outputId": "10e3722f-9ec2-4520-dc45-bd7cc9349e1b"
      },
      "execution_count": 12,
      "outputs": [
        {
          "output_type": "execute_result",
          "data": {
            "text/plain": [
              "1859.0687500000001"
            ]
          },
          "metadata": {},
          "execution_count": 12
        }
      ]
    },
    {
      "cell_type": "code",
      "execution_count": 13,
      "metadata": {
        "id": "qbWv8a2GBLPp"
      },
      "outputs": [],
      "source": [
        "from functools import reduce\n",
        "\n",
        "media_valor_emprestimos = reduce(lambda x, y: soma_valor_emprestimos / len(valor_emprestimos_lista_filtrada) , valor_emprestimos_lista_filtrada)"
      ]
    },
    {
      "cell_type": "markdown",
      "source": [],
      "metadata": {
        "id": "csN4Mo_-4cJU"
      }
    },
    {
      "cell_type": "code",
      "execution_count": 14,
      "metadata": {
        "id": "V-hh5hCKBLPr",
        "colab": {
          "base_uri": "https://localhost:8080/"
        },
        "outputId": "f9f9448a-83d2-489f-d6f1-2a91475eb84b"
      },
      "outputs": [
        {
          "output_type": "stream",
          "name": "stdout",
          "text": [
            "1859.0687500000001\n"
          ]
        }
      ],
      "source": [
        "print(media_valor_emprestimos) # 1859.0687500000001"
      ]
    },
    {
      "cell_type": "markdown",
      "metadata": {
        "id": "rCwM3DcJBeyB"
      },
      "source": [
        "### 3\\.3\\. (**Desafio**) Função `reduce` para extrair o **desvio padrão amostral**"
      ]
    },
    {
      "cell_type": "markdown",
      "metadata": {
        "id": "jw3azoT_BeyC"
      },
      "source": [
        "Aplique a função reduce para extrair a média aritimética (mais informações [aqui](https://pt.wikipedia.org/wiki/M%C3%A9dia#M%C3%A9dia_aritm%C3%A9tica)) dos elementos da lista `valor_emprestimos_lista_filtrada` na variavel `desvio_padrao_valor_emprestimos`.\n",
        "\n"
      ]
    },
    {
      "cell_type": "code",
      "source": [
        "quadrado_da_difereca_valor_media = list(map(lambda valor_emprestimos_lista_filtrada:(valor_emprestimos_lista_filtrada - media_valor_emprestimos)**2 , valor_emprestimos_lista_filtrada))\n",
        "print(quadrado_da_difereca_valor_media)\n",
        "print(len(quadrado_da_difereca_valor_media))"
      ],
      "metadata": {
        "colab": {
          "base_uri": "https://localhost:8080/"
        },
        "id": "qyGDGmKxXXFO",
        "outputId": "02f6a89f-5403-468e-85d1-88b04e997928"
      },
      "execution_count": 60,
      "outputs": [
        {
          "output_type": "stream",
          "name": "stdout",
          "text": [
            "[1991115.0172265628, 1065785.2359765626, 2388473.6572265625, 124560.46722656241, 832165.8534765625, 145108.6172265624, 26530.30160156247, 4752100.254726561]\n",
            "8\n"
          ]
        }
      ]
    },
    {
      "cell_type": "code",
      "source": [
        "soma_dos_quadrados = reduce ( lambda x,y: x + y, quadrado_da_difereca_valor_media)\n",
        "soma_dos_quadrados = float(soma_dos_quadrados)\n",
        "print(soma_dos_quadrados)"
      ],
      "metadata": {
        "colab": {
          "base_uri": "https://localhost:8080/"
        },
        "id": "_XZPqtt9lsWh",
        "outputId": "886ae76c-f979-4011-bfc1-b58d6bd4c7c3"
      },
      "execution_count": 61,
      "outputs": [
        {
          "output_type": "stream",
          "name": "stdout",
          "text": [
            "11325839.404687498\n"
          ]
        }
      ]
    },
    {
      "cell_type": "code",
      "source": [
        "desvio_padrao_valor_emprestimos = (soma_dos_quadrados/(len(quadrado_da_difereca_valor_media)-1))**0.5\n",
        "print(desvio_padrao_valor_emprestimos)\n",
        "\n"
      ],
      "metadata": {
        "colab": {
          "base_uri": "https://localhost:8080/"
        },
        "id": "tRENZ8f3maBa",
        "outputId": "bc9f31fd-0647-4f08-9679-ace3b6acdda2"
      },
      "execution_count": 73,
      "outputs": [
        {
          "output_type": "stream",
          "name": "stdout",
          "text": [
            "1271.9972711497849\n"
          ]
        }
      ]
    },
    {
      "cell_type": "code",
      "execution_count": 74,
      "metadata": {
        "id": "3dDC-KRYBeyE",
        "colab": {
          "base_uri": "https://localhost:8080/"
        },
        "outputId": "78f07791-845f-4c5d-ae80-85d3930cbbb1"
      },
      "outputs": [
        {
          "output_type": "stream",
          "name": "stdout",
          "text": [
            "1271.9972711497849\n"
          ]
        }
      ],
      "source": [
        "print(desvio_padrao_valor_emprestimos) # 1271.997271149785"
      ]
    },
    {
      "cell_type": "markdown",
      "metadata": {
        "id": "ai2mZYnG_b_s"
      },
      "source": [
        "---"
      ]
    }
  ],
  "metadata": {
    "colab": {
      "collapsed_sections": [],
      "provenance": []
    },
    "kernelspec": {
      "display_name": "Python 3 (ipykernel)",
      "language": "python",
      "name": "python3"
    },
    "language_info": {
      "codemirror_mode": {
        "name": "ipython",
        "version": 3
      },
      "file_extension": ".py",
      "mimetype": "text/x-python",
      "name": "python",
      "nbconvert_exporter": "python",
      "pygments_lexer": "ipython3",
      "version": "3.9.7"
    }
  },
  "nbformat": 4,
  "nbformat_minor": 0
}